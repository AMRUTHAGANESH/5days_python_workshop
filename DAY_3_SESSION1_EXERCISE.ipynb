{
  "nbformat": 4,
  "nbformat_minor": 0,
  "metadata": {
    "colab": {
      "name": "Untitled4.ipynb",
      "provenance": [],
      "authorship_tag": "ABX9TyOA3pzRbz4dNQ3S3glNiGFL",
      "include_colab_link": true
    },
    "kernelspec": {
      "name": "python3",
      "display_name": "Python 3"
    }
  },
  "cells": [
    {
      "cell_type": "markdown",
      "metadata": {
        "id": "view-in-github",
        "colab_type": "text"
      },
      "source": [
        "<a href=\"https://colab.research.google.com/github/AMRUTHAGANESH/5days_python_workshop/blob/master/DAY_3_SESSION1_EXERCISE.ipynb\" target=\"_parent\"><img src=\"https://colab.research.google.com/assets/colab-badge.svg\" alt=\"Open In Colab\"/></a>"
      ]
    },
    {
      "cell_type": "code",
      "metadata": {
        "id": "Jr0Hh745v0Rx",
        "colab_type": "code",
        "colab": {}
      },
      "source": [
        "#Write a Python program to find numbers between 100 and 400 (both included) which are divisable both by 5 or 7. The numbers obtained should be printed in a comma-separated sequence"
      ],
      "execution_count": null,
      "outputs": []
    },
    {
      "cell_type": "code",
      "metadata": {
        "id": "_QcED_XUv_g2",
        "colab_type": "code",
        "colab": {
          "base_uri": "https://localhost:8080/",
          "height": 34
        },
        "outputId": "e251a21f-f66d-4885-f85c-dd466042e383"
      },
      "source": [
        "nl=[]\n",
        "for x in range(100, 400):\n",
        "    if (x%7==0) and (x%5==0):\n",
        "        nl.append(str(x))\n",
        "print (','.join(nl))"
      ],
      "execution_count": 1,
      "outputs": [
        {
          "output_type": "stream",
          "text": [
            "105,140,175,210,245,280,315,350,385\n"
          ],
          "name": "stdout"
        }
      ]
    },
    {
      "cell_type": "markdown",
      "metadata": {
        "id": "bOsH2X7kwrSS",
        "colab_type": "text"
      },
      "source": [
        "#Write a Python program to find prime numbers between 200 and 600 (both included). The numbers obtained should be printed in a comma-separated sequence"
      ]
    },
    {
      "cell_type": "code",
      "metadata": {
        "id": "K3XmD13mwstW",
        "colab_type": "code",
        "colab": {
          "base_uri": "https://localhost:8080/",
          "height": 54
        },
        "outputId": "6228ed47-1562-4626-c922-5b05edc396df"
      },
      "source": [
        "a=[]\n",
        "for num1 in range(200, 600):\n",
        "      if num1 > 1:\n",
        "       for i in range(2, num1):\n",
        "           if (num1 % i) == 0:\n",
        "               break\n",
        "       else:\n",
        "              k=num1\n",
        "              a.append(str(num1))\n",
        "print(','.join(a))"
      ],
      "execution_count": 2,
      "outputs": [
        {
          "output_type": "stream",
          "text": [
            "211,223,227,229,233,239,241,251,257,263,269,271,277,281,283,293,307,311,313,317,331,337,347,349,353,359,367,373,379,383,389,397,401,409,419,421,431,433,439,443,449,457,461,463,467,479,487,491,499,503,509,521,523,541,547,557,563,569,571,577,587,593,599\n"
          ],
          "name": "stdout"
        }
      ]
    },
    {
      "cell_type": "markdown",
      "metadata": {
        "id": "P7xEv7XIx6WD",
        "colab_type": "text"
      },
      "source": [
        "#Write a Python program to find All Numbers which are Odd and Palindromes Between a Range of Numbers without using Recursion. The numbers obtained should be printed in a comma-separated sequence"
      ]
    },
    {
      "cell_type": "code",
      "metadata": {
        "id": "JpoAWwwax7hL",
        "colab_type": "code",
        "colab": {
          "base_uri": "https://localhost:8080/",
          "height": 68
        },
        "outputId": "d5a52177-d6a4-46f9-9e28-71476a121499"
      },
      "source": [
        "\n",
        "a=[]\n",
        "l=int(input(\"Enter lower limit: \"))\n",
        "u=int(input(\"Enter upper limit: \"))\n",
        "a=[x for x in range(l,u+1) if x%2!=0 and str(x)==str(x)[::-1]]\n",
        "print(\"The numbers are: \",a)"
      ],
      "execution_count": 3,
      "outputs": [
        {
          "output_type": "stream",
          "text": [
            "Enter lower limit: 4\n",
            "Enter upper limit: 7\n",
            "The numbers are:  [5, 7]\n"
          ],
          "name": "stdout"
        }
      ]
    },
    {
      "cell_type": "markdown",
      "metadata": {
        "id": "Lo3OXNcfyF_c",
        "colab_type": "text"
      },
      "source": [
        "#Write a Python Program to read a number n and print the series “5+10+…..+n = sum upto n ” . The numbers should be printed as they are shown in the quotes with sum of numbers upto n"
      ]
    },
    {
      "cell_type": "code",
      "metadata": {
        "id": "2PRTxQ82yKS7",
        "colab_type": "code",
        "colab": {
          "base_uri": "https://localhost:8080/",
          "height": 51
        },
        "outputId": "dd90bd31-1609-4e9f-c0d8-b7da16f23005"
      },
      "source": [
        "a=[]\n",
        "b=0\n",
        "n=int(input(\"Enter the value of n\"))\n",
        "while(b<n):\n",
        "  b=5+b\n",
        "  a.append(str(b))\n",
        "print('+'.join(a))"
      ],
      "execution_count": 4,
      "outputs": [
        {
          "output_type": "stream",
          "text": [
            "Enter the value of n5\n",
            "5\n"
          ],
          "name": "stdout"
        }
      ]
    },
    {
      "cell_type": "markdown",
      "metadata": {
        "id": "vrIin-C_v9iL",
        "colab_type": "text"
      },
      "source": [
        ""
      ]
    }
  ]
}