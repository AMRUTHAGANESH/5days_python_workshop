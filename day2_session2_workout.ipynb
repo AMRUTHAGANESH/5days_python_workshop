{
  "nbformat": 4,
  "nbformat_minor": 0,
  "metadata": {
    "colab": {
      "name": "Untitled2.ipynb",
      "provenance": [],
      "authorship_tag": "ABX9TyOCrAg+btaglQPMm0xFtaXe",
      "include_colab_link": true
    },
    "kernelspec": {
      "name": "python3",
      "display_name": "Python 3"
    }
  },
  "cells": [
    {
      "cell_type": "markdown",
      "metadata": {
        "id": "view-in-github",
        "colab_type": "text"
      },
      "source": [
        "<a href=\"https://colab.research.google.com/github/AMRUTHAGANESH/5days_python_workshop/blob/master/day2_session2_workout.ipynb\" target=\"_parent\"><img src=\"https://colab.research.google.com/assets/colab-badge.svg\" alt=\"Open In Colab\"/></a>"
      ]
    },
    {
      "cell_type": "code",
      "metadata": {
        "id": "G4kNnt2AZEPy",
        "colab_type": "code",
        "colab": {}
      },
      "source": [
        "#Program to find the largest number in a list."
      ],
      "execution_count": 1,
      "outputs": []
    },
    {
      "cell_type": "code",
      "metadata": {
        "id": "KXSri85cZWwD",
        "colab_type": "code",
        "colab": {
          "base_uri": "https://localhost:8080/",
          "height": 136
        },
        "outputId": "42733c22-6f35-4225-ec41-cca09cdc14b9"
      },
      "source": [
        "a=[]\n",
        "n=int(input(\"Enter number of elements:\"))\n",
        "for i in range(1,n+1):\n",
        "    b=int(input(\"Enter element:\"))\n",
        "    a.append(b)\n",
        "a.sort()\n",
        "print(\"Largest element is:\",a[n-1])"
      ],
      "execution_count": 2,
      "outputs": [
        {
          "output_type": "stream",
          "text": [
            "Enter number of elements:5\n",
            "Enter element:2\n",
            "Enter element:3\n",
            "Enter element:7\n",
            "Enter element:8\n",
            "Enter element:9\n",
            "Largest element is: 9\n"
          ],
          "name": "stdout"
        }
      ]
    },
    {
      "cell_type": "markdown",
      "metadata": {
        "id": "AqSQleQXZncU",
        "colab_type": "text"
      },
      "source": [
        "#Python Program to put the even and odd elements in a list into two different lists. "
      ]
    },
    {
      "cell_type": "code",
      "metadata": {
        "id": "QJTZoYEtZs0c",
        "colab_type": "code",
        "colab": {
          "base_uri": "https://localhost:8080/",
          "height": 153
        },
        "outputId": "c2583f37-040b-4ee1-fdd9-4d767f455a5e"
      },
      "source": [
        "a=[]\n",
        "n=int(input(\"Enter number of elements:\"))\n",
        "for i in range(1,n+1):\n",
        "    b=int(input(\"Enter element:\"))\n",
        "    a.append(b)\n",
        "even=[]\n",
        "odd=[]\n",
        "for j in a:\n",
        "    if(j%2==0):\n",
        "        even.append(j)\n",
        "    else:\n",
        "        odd.append(j)\n",
        "print(\"The even list\",even)\n",
        "print(\"The odd list\",odd)"
      ],
      "execution_count": 4,
      "outputs": [
        {
          "output_type": "stream",
          "text": [
            "Enter number of elements:5\n",
            "Enter element:2\n",
            "Enter element:3\n",
            "Enter element:8\n",
            "Enter element:9\n",
            "Enter element:7\n",
            "The even list [2, 8]\n",
            "The odd list [3, 9, 7]\n"
          ],
          "name": "stdout"
        }
      ]
    },
    {
      "cell_type": "markdown",
      "metadata": {
        "id": "mkYFRwhGaBuL",
        "colab_type": "text"
      },
      "source": [
        "#Python Program to merge two lists and sort it."
      ]
    },
    {
      "cell_type": "code",
      "metadata": {
        "id": "SUoDnxcFaDDr",
        "colab_type": "code",
        "colab": {
          "base_uri": "https://localhost:8080/",
          "height": 255
        },
        "outputId": "fbcd8b86-b7d5-4c93-c93e-41d03bdadf03"
      },
      "source": [
        "a=[]\n",
        "c=[]\n",
        "n1=int(input(\"Enter number of elements:\"))\n",
        "for i in range(1,n1+1):\n",
        "    b=int(input(\"Enter element:\"))\n",
        "    a.append(b)\n",
        "n2=int(input(\"Enter number of elements:\"))\n",
        "for i in range(1,n2+1):\n",
        "    d=int(input(\"Enter element:\"))\n",
        "    c.append(d)\n",
        "new=a+c\n",
        "new.sort()\n",
        "print(\"Sorted list is:\",new)"
      ],
      "execution_count": 5,
      "outputs": [
        {
          "output_type": "stream",
          "text": [
            "Enter number of elements:2\n",
            "Enter element:5\n",
            "Enter element:8\n",
            "Enter number of elements:9\n",
            "Enter element:7\n",
            "Enter element:4\n",
            "Enter element:6\n",
            "Enter element:3\n",
            "Enter element:1\n",
            "Enter element:5\n",
            "Enter element:8\n",
            "Enter element:7\n",
            "Enter element:5\n",
            "Sorted list is: [1, 3, 4, 5, 5, 5, 6, 7, 7, 8, 8]\n"
          ],
          "name": "stdout"
        }
      ]
    },
    {
      "cell_type": "markdown",
      "metadata": {
        "id": "wzZdzg41aTHL",
        "colab_type": "text"
      },
      "source": [
        "#Python Program to sort the list according to the second element in the sublist."
      ]
    },
    {
      "cell_type": "code",
      "metadata": {
        "id": "A9RANMNRaYZh",
        "colab_type": "code",
        "colab": {
          "base_uri": "https://localhost:8080/",
          "height": 34
        },
        "outputId": "a532a593-0f80-4fd1-bba4-6f9bda917f4f"
      },
      "source": [
        "a=[['A',34],['B',21],['C',26],['E',29]]\n",
        "for i in range(0,len(a)):\n",
        "    for j in range(i+1,len(a)):\n",
        "        if(a[i][1]>a[j][1]):\n",
        "            temp=a[j]\n",
        "            a[j]=a[i]\n",
        "            a[i]=temp\n",
        "print(a)"
      ],
      "execution_count": 7,
      "outputs": [
        {
          "output_type": "stream",
          "text": [
            "[['B', 21], ['C', 26], ['E', 29], ['A', 34]]\n"
          ],
          "name": "stdout"
        }
      ]
    },
    {
      "cell_type": "markdown",
      "metadata": {
        "id": "WQDDy2cMalRK",
        "colab_type": "text"
      },
      "source": [
        "#Python Program to find the second largest number in a list "
      ]
    },
    {
      "cell_type": "code",
      "metadata": {
        "id": "6Y2csLoDaotD",
        "colab_type": "code",
        "colab": {
          "base_uri": "https://localhost:8080/",
          "height": 136
        },
        "outputId": "0808a4b4-479f-4510-dca1-ab1c20765710"
      },
      "source": [
        "a=[]\n",
        "n=int(input(\"Enter number of elements:\"))\n",
        "for i in range(1,n+1):\n",
        "    b=int(input(\"Enter element:\"))\n",
        "    a.append(b)\n",
        "for i in range(0,len(a)):\n",
        "    for j in range(0,len(a)-i-1):\n",
        "        if(a[j]>a[j+1]):\n",
        "            temp=a[j]\n",
        "            a[j]=a[j+1]\n",
        "            a[j+1]=temp \n",
        "print('Second largest number is:',a[n-2])"
      ],
      "execution_count": 8,
      "outputs": [
        {
          "output_type": "stream",
          "text": [
            "Enter number of elements:5\n",
            "Enter element:8\n",
            "Enter element:9\n",
            "Enter element:7\n",
            "Enter element:6\n",
            "Enter element:4\n",
            "Second largest number is: 8\n"
          ],
          "name": "stdout"
        }
      ]
    },
    {
      "cell_type": "markdown",
      "metadata": {
        "id": "CWMVB1gva16y",
        "colab_type": "text"
      },
      "source": [
        "#Program to create a list of tuples with the first element as the number and the second element as the square of the number."
      ]
    },
    {
      "cell_type": "code",
      "metadata": {
        "id": "_hk_fEnEa4zK",
        "colab_type": "code",
        "colab": {
          "base_uri": "https://localhost:8080/",
          "height": 68
        },
        "outputId": "4e985c63-4c84-4b64-aafd-34ae24dd9c1c"
      },
      "source": [
        "l_range=int(input(\"Enter the lower range:\"))\n",
        "u_range=int(input(\"Enter the upper range:\"))\n",
        "a=[(x,x**2) for x in range(l_range,u_range+1)]\n",
        "print(a)"
      ],
      "execution_count": 10,
      "outputs": [
        {
          "output_type": "stream",
          "text": [
            "Enter the lower range:5\n",
            "Enter the upper range:8\n",
            "[(5, 25), (6, 36), (7, 49), (8, 64)]\n"
          ],
          "name": "stdout"
        }
      ]
    },
    {
      "cell_type": "markdown",
      "metadata": {
        "id": "CQMi0GJ3bHnQ",
        "colab_type": "text"
      },
      "source": [
        "#Python Program to generate random numbers from 1 to 20 and append them to the list."
      ]
    },
    {
      "cell_type": "code",
      "metadata": {
        "id": "3AjByFrybI_z",
        "colab_type": "code",
        "colab": {
          "base_uri": "https://localhost:8080/",
          "height": 51
        },
        "outputId": "f3bcaf61-c84d-4db9-fe73-61576ff56fa5"
      },
      "source": [
        "import random\n",
        "a=[]\n",
        "n=int(input(\"Enter number of elements:\"))\n",
        "for j in range(n):\n",
        "    a.append(random.randint(1,20))\n",
        "print('Randomised list is: ',a)"
      ],
      "execution_count": 11,
      "outputs": [
        {
          "output_type": "stream",
          "text": [
            "Enter number of elements:5\n",
            "Randomised list is:  [17, 6, 5, 19, 13]\n"
          ],
          "name": "stdout"
        }
      ]
    },
    {
      "cell_type": "markdown",
      "metadata": {
        "id": "QjZFGBLWbdhw",
        "colab_type": "text"
      },
      "source": [
        "#Write python program to have a list of words  to sort them from longest to shortest using list of tuples"
      ]
    },
    {
      "cell_type": "code",
      "metadata": {
        "id": "94GSkiCpb1jg",
        "colab_type": "code",
        "colab": {
          "base_uri": "https://localhost:8080/",
          "height": 34
        },
        "outputId": "fb4d6236-7ea5-4932-f7fd-4ed069cf58a2"
      },
      "source": [
        "txt = 'but soft what light in yonder window breaks'\n",
        "words = txt.split()\n",
        "t = list()\n",
        "for word in words:\n",
        "   t.append((len(word), word))\n",
        "t.sort(reverse=True)\n",
        "\n",
        "res = list()\n",
        "for length, word in t:\n",
        "    res.append(word)\n",
        "\n",
        "print(res)"
      ],
      "execution_count": 12,
      "outputs": [
        {
          "output_type": "stream",
          "text": [
            "['yonder', 'window', 'breaks', 'light', 'what', 'soft', 'but', 'in']\n"
          ],
          "name": "stdout"
        }
      ]
    },
    {
      "cell_type": "code",
      "metadata": {
        "id": "9DwxwCATcVvn",
        "colab_type": "code",
        "colab": {}
      },
      "source": [
        ""
      ],
      "execution_count": null,
      "outputs": []
    },
    {
      "cell_type": "markdown",
      "metadata": {
        "id": "I6OJ77zycIix",
        "colab_type": "text"
      },
      "source": [
        "#Python program that assigns variables"
      ]
    },
    {
      "cell_type": "code",
      "metadata": {
        "id": "uOP8TzA-cJ65",
        "colab_type": "code",
        "colab": {
          "base_uri": "https://localhost:8080/",
          "height": 51
        },
        "outputId": "e73c00cc-400e-4fef-c3f2-5cce710bebcc"
      },
      "source": [
        "pair = (\"dog\", \"cat\")\n",
        "\n",
        "# Unpack tuple.\n",
        "(key, value) = pair\n",
        "\n",
        "# Display unpacked variables.\n",
        "print(key)\n",
        "print(value)"
      ],
      "execution_count": 13,
      "outputs": [
        {
          "output_type": "stream",
          "text": [
            "dog\n",
            "cat\n"
          ],
          "name": "stdout"
        }
      ]
    },
    {
      "cell_type": "markdown",
      "metadata": {
        "id": "tnLlXTlscUXP",
        "colab_type": "text"
      },
      "source": [
        "#Python program that searches tuples"
      ]
    },
    {
      "cell_type": "code",
      "metadata": {
        "id": "iVzr_VjzZV_N",
        "colab_type": "code",
        "colab": {
          "base_uri": "https://localhost:8080/",
          "height": 51
        },
        "outputId": "9909eaea-0427-4662-dc12-095e9d68223d"
      },
      "source": [
        "\n",
        "# Search for a value.\n",
        "if \"cat\" in pair:\n",
        "    print(\"Cat found\")\n",
        "\n",
        "# Search for a value not present.\n",
        "if \"bird\" not in pair:\n",
        "    print(\"Bird not found\")\n"
      ],
      "execution_count": 14,
      "outputs": [
        {
          "output_type": "stream",
          "text": [
            "Cat found\n",
            "Bird not found\n"
          ],
          "name": "stdout"
        }
      ]
    },
    {
      "cell_type": "markdown",
      "metadata": {
        "id": "hlAfRZjEZE7P",
        "colab_type": "text"
      },
      "source": [
        ""
      ]
    }
  ]
}