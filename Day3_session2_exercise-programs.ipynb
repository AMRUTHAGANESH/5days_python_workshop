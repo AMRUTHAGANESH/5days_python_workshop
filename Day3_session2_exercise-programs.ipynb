{
  "nbformat": 4,
  "nbformat_minor": 0,
  "metadata": {
    "colab": {
      "name": "Untitled6.ipynb",
      "provenance": [],
      "authorship_tag": "ABX9TyP3AYSFtKxN/y3Ud0lOYpUx",
      "include_colab_link": true
    },
    "kernelspec": {
      "name": "python3",
      "display_name": "Python 3"
    }
  },
  "cells": [
    {
      "cell_type": "markdown",
      "metadata": {
        "id": "view-in-github",
        "colab_type": "text"
      },
      "source": [
        "<a href=\"https://colab.research.google.com/github/AMRUTHAGANESH/5days_python_workshop/blob/master/Day3_session2_exercise-programs.ipynb\" target=\"_parent\"><img src=\"https://colab.research.google.com/assets/colab-badge.svg\" alt=\"Open In Colab\"/></a>"
      ]
    },
    {
      "cell_type": "code",
      "metadata": {
        "id": "mkfzynYB7PmZ",
        "colab_type": "code",
        "colab": {}
      },
      "source": [
        "#Write a Python Program to Print Multiplication Table of a number which got through keyboard."
      ],
      "execution_count": null,
      "outputs": []
    },
    {
      "cell_type": "code",
      "metadata": {
        "id": "GiivqTLK7R0X",
        "colab_type": "code",
        "colab": {
          "base_uri": "https://localhost:8080/",
          "height": 221
        },
        "outputId": "eae27615-dec2-4188-fcdd-bd675aad621a"
      },
      "source": [
        "num = int(input(\"Enter the number: \"))\n",
        " \n",
        "print(\"Multiplication Table of\", num)\n",
        "for i in range(1, 11):\n",
        "   print(num,\"X\",i,\"=\",num * i)"
      ],
      "execution_count": 1,
      "outputs": [
        {
          "output_type": "stream",
          "text": [
            "Enter the number: 5\n",
            "Multiplication Table of 5\n",
            "5 X 1 = 5\n",
            "5 X 2 = 10\n",
            "5 X 3 = 15\n",
            "5 X 4 = 20\n",
            "5 X 5 = 25\n",
            "5 X 6 = 30\n",
            "5 X 7 = 35\n",
            "5 X 8 = 40\n",
            "5 X 9 = 45\n",
            "5 X 10 = 50\n"
          ],
          "name": "stdout"
        }
      ]
    },
    {
      "cell_type": "markdown",
      "metadata": {
        "id": "DqM4iy1c7dwP",
        "colab_type": "text"
      },
      "source": [
        "#Write a Python Program to find the Armstrong Numbers between 1 and 2000 ( i.e 153 is amtrong numbers as 13+53+3**3=153 )"
      ]
    },
    {
      "cell_type": "code",
      "metadata": {
        "id": "frm2kog37fB-",
        "colab_type": "code",
        "colab": {
          "base_uri": "https://localhost:8080/",
          "height": 136
        },
        "outputId": "45a59a3c-01ba-4ff3-da3c-8b6de33423d0"
      },
      "source": [
        "print(\"Enter the interval (starting and ending number): \");\n",
        "start = input();\n",
        "if start == 'x':\n",
        "    exit();\n",
        "else:\n",
        "    end = input();\n",
        "    lower = int(start);\n",
        "    upper = int(end);\n",
        "    for num in range(lower, upper+1):\n",
        "        tot = 0;\n",
        "        temp = num;\n",
        "        while temp != 0:\n",
        "            dig = temp % 10;\n",
        "            tot += dig ** 3;\n",
        "            temp //= 10;\n",
        "        if num == tot:\n",
        "            print(num);"
      ],
      "execution_count": 2,
      "outputs": [
        {
          "output_type": "stream",
          "text": [
            "Enter the interval (starting and ending number): \n",
            "2\n",
            "2001\n",
            "153\n",
            "370\n",
            "371\n",
            "407\n"
          ],
          "name": "stdout"
        }
      ]
    },
    {
      "cell_type": "markdown",
      "metadata": {
        "id": "Ch3XeLgf7ocf",
        "colab_type": "text"
      },
      "source": [
        "#Write a python program to get the list of tuples (rollno, name) for n students by getting rollno and name through keyboard. Sort and print them as rollno wise and name wise both ascending and descending as well as alphabetical and dealphabetical orders"
      ]
    },
    {
      "cell_type": "code",
      "metadata": {
        "id": "YHW2VTmT7qqP",
        "colab_type": "code",
        "colab": {
          "base_uri": "https://localhost:8080/",
          "height": 289
        },
        "outputId": "84ad1992-a686-491d-8f32-b8184076dd14"
      },
      "source": [
        "l=[]\n",
        "def inp():\n",
        "  name = input('Name : ')\n",
        "  rolno = input(' Rol No : ')\n",
        "  return (name,rolno)  # returns tuples\n",
        " \n",
        "n = int(input('Number of Students : '))\n",
        "for x in range(n):\n",
        "  l.append(inp())\n",
        " \n",
        "print(f'Original : {l}')\n",
        " \n",
        "l.sort(key = lambda x:x[1])\n",
        "print(f'According to Rol No : Ascending :{l}')\n",
        "print(f'According to Rol No : Descending :{l[::-1]}')\n",
        " \n",
        "l.sort(key = lambda x:x[0])\n",
        "print(f'According to Name : Ascending :{l}')\n",
        "print(f'According to Name : Descending :{l[::-1]}')"
      ],
      "execution_count": 3,
      "outputs": [
        {
          "output_type": "stream",
          "text": [
            "Number of Students : 5\n",
            "Name : amrutha\n",
            " Rol No : 6\n",
            "Name : ajay\n",
            " Rol No : 7\n",
            "Name : keerthan\n",
            " Rol No : 9\n",
            "Name : dhana\n",
            " Rol No : 10\n",
            "Name : baba\n",
            " Rol No : 11\n",
            "Original : [('amrutha', '6'), ('ajay', '7'), ('keerthan', '9'), ('dhana', '10'), ('baba', '11')]\n",
            "According to Rol No : Ascending :[('dhana', '10'), ('baba', '11'), ('amrutha', '6'), ('ajay', '7'), ('keerthan', '9')]\n",
            "According to Rol No : Descending :[('keerthan', '9'), ('ajay', '7'), ('amrutha', '6'), ('baba', '11'), ('dhana', '10')]\n",
            "According to Name : Ascending :[('ajay', '7'), ('amrutha', '6'), ('baba', '11'), ('dhana', '10'), ('keerthan', '9')]\n",
            "According to Name : Descending :[('keerthan', '9'), ('dhana', '10'), ('baba', '11'), ('amrutha', '6'), ('ajay', '7')]\n"
          ],
          "name": "stdout"
        }
      ]
    },
    {
      "cell_type": "markdown",
      "metadata": {
        "id": "u2IGCjDH7_qd",
        "colab_type": "text"
      },
      "source": [
        "#Python Program to Detect if Two Strings are Anagrams ( They are the two strings which have same length and same words which may be different in their order)"
      ]
    },
    {
      "cell_type": "code",
      "metadata": {
        "id": "FIgSUi9w8E64",
        "colab_type": "code",
        "colab": {
          "base_uri": "https://localhost:8080/",
          "height": 34
        },
        "outputId": "8dbe6a0a-de31-40ab-c004-80b81b3721b9"
      },
      "source": [
        "def check(s1, s2): \n",
        "    if(sorted(s1)== sorted(s2)): \n",
        "        print(\"The strings are anagrams.\") \n",
        "    else: \n",
        "        print(\"The strings aren't anagrams.\")        \n",
        "s1 =\"listen\"\n",
        "s2 =\"silent\"\n",
        "check(s1, s2)"
      ],
      "execution_count": 4,
      "outputs": [
        {
          "output_type": "stream",
          "text": [
            "The strings are anagrams.\n"
          ],
          "name": "stdout"
        }
      ]
    },
    {
      "cell_type": "markdown",
      "metadata": {
        "id": "cugmcH067Qce",
        "colab_type": "text"
      },
      "source": [
        ""
      ]
    }
  ]
}