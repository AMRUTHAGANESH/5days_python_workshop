{
  "nbformat": 4,
  "nbformat_minor": 0,
  "metadata": {
    "colab": {
      "name": "Untitled0.ipynb",
      "provenance": [],
      "authorship_tag": "ABX9TyNKitbL02zzK5HvunUyK5ub",
      "include_colab_link": true
    },
    "kernelspec": {
      "name": "python3",
      "display_name": "Python 3"
    }
  },
  "cells": [
    {
      "cell_type": "markdown",
      "metadata": {
        "id": "view-in-github",
        "colab_type": "text"
      },
      "source": [
        "<a href=\"https://colab.research.google.com/github/AMRUTHAGANESH/5days_python_workshop/blob/master/day1_session1_exercise1.ipynb\" target=\"_parent\"><img src=\"https://colab.research.google.com/assets/colab-badge.svg\" alt=\"Open In Colab\"/></a>"
      ]
    },
    {
      "cell_type": "code",
      "metadata": {
        "id": "jFqRYzUINOVB",
        "colab_type": "code",
        "colab": {}
      },
      "source": [
        "#1.Find the compound interest for the given p,n,r  (formula : p(1+n*r/100)n )"
      ],
      "execution_count": null,
      "outputs": []
    },
    {
      "cell_type": "code",
      "metadata": {
        "id": "JUi0RbsdNlv7",
        "colab_type": "code",
        "colab": {
          "base_uri": "https://localhost:8080/",
          "height": 85
        },
        "outputId": "511c9988-22d7-4b99-bb39-7af3535b76ac"
      },
      "source": [
        "P=int(input(\"Enter the principal:\"))\n",
        "n=int(input(\"Enter the time period:\"))\n",
        "R=float(input(\"Enter the rate of interest per unit time period:\"))\n",
        "A = P*((1 + (R / 100))**n)\n",
        "CI=A - P\n",
        "print(\"Compound Intrest is:\",CI)"
      ],
      "execution_count": null,
      "outputs": [
        {
          "output_type": "stream",
          "text": [
            "Enter the principal:2000\n",
            "Enter the time period:3\n",
            "Enter the rate of interest per unit time period:6.5\n",
            "Compound Intrest is: 415.89924999999994\n"
          ],
          "name": "stdout"
        }
      ]
    },
    {
      "cell_type": "markdown",
      "metadata": {
        "id": "Tri2t5lbN99U",
        "colab_type": "text"
      },
      "source": [
        "#2.\tConvert centegrade to farenheit  ( f= 9/5*c+32)"
      ]
    },
    {
      "cell_type": "code",
      "metadata": {
        "id": "kmamR-CFOEaT",
        "colab_type": "code",
        "colab": {
          "base_uri": "https://localhost:8080/",
          "height": 51
        },
        "outputId": "375ab105-d0b1-4847-b60d-dec3d74cfddb"
      },
      "source": [
        "c=float(input(\"Enter the value in Centegrade:\"))\n",
        "farenheat=((9/5)*c+32)\n",
        "print(\"the centegrade in farenheat is:\",farenheat)"
      ],
      "execution_count": null,
      "outputs": [
        {
          "output_type": "stream",
          "text": [
            "Enter the value in Centegrade:37\n",
            "the centegrade in farenheat is: 98.60000000000001\n"
          ],
          "name": "stdout"
        }
      ]
    },
    {
      "cell_type": "markdown",
      "metadata": {
        "id": "dhmBaWf1OM0j",
        "colab_type": "text"
      },
      "source": [
        "##3.\tFind the greater of two nos"
      ]
    },
    {
      "cell_type": "code",
      "metadata": {
        "id": "iJAkSRqiOSdQ",
        "colab_type": "code",
        "colab": {
          "base_uri": "https://localhost:8080/",
          "height": 68
        },
        "outputId": "1bd70128-4801-4ea3-be1a-0c257d4245ca"
      },
      "source": [
        "num1=input(\"enter the first number:\")\n",
        "num2=input(\"enter the second number:\")\n",
        "print(max(num1,num2))"
      ],
      "execution_count": null,
      "outputs": [
        {
          "output_type": "stream",
          "text": [
            "enter the first number:2\n",
            "enter the second number:3\n",
            "3\n"
          ],
          "name": "stdout"
        }
      ]
    },
    {
      "cell_type": "markdown",
      "metadata": {
        "id": "ZgXYUCNiOcaR",
        "colab_type": "text"
      },
      "source": [
        "#4.Write a program for finding surface areas of cylinder and cone (2*PI*r*r*h, 1/3*PI*r*r*h) using function"
      ]
    },
    {
      "cell_type": "code",
      "metadata": {
        "id": "FI1v9xPVOgQa",
        "colab_type": "code",
        "colab": {
          "base_uri": "https://localhost:8080/",
          "height": 51
        },
        "outputId": "f6dea4e1-a7ee-4ae5-f6e7-24cec02b44f0"
      },
      "source": [
        "import math \n",
        "pi = math.pi\n",
        "# Function To Calculate Surface Area of Cone \n",
        "def surfacearea_cone(r, h): \n",
        "    return pi*r*(r+math.sqrt((h**2)+(r**2))) \n",
        "#Function to calculate surface area of cylinder 2πrh+2πr2\n",
        "def surfacearea_cylinder(r, h): \n",
        "    return 2 * pi * r * (r + h)\n",
        "# Driver Code \n",
        "radius = float(5) \n",
        "height = float(12) \n",
        "\n",
        "print( \"Surface are of cone : \", surfacearea_cone(radius, height) ) \n",
        "print( \"Surface Area Of cylinder: \", surfacearea_cylinder(radius,height) )"
      ],
      "execution_count": null,
      "outputs": [
        {
          "output_type": "stream",
          "text": [
            "Surface are of cone :  282.7433388230814\n",
            "Surface Area Of cylinder:  534.0707511102648\n"
          ],
          "name": "stdout"
        }
      ]
    },
    {
      "cell_type": "markdown",
      "metadata": {
        "id": "A8C5pNKgOpRf",
        "colab_type": "text"
      },
      "source": [
        "#Find the greatest of four nos ( using ‘and’ operator)   using function"
      ]
    },
    {
      "cell_type": "code",
      "metadata": {
        "id": "tvF3LzUeOuJS",
        "colab_type": "code",
        "colab": {
          "base_uri": "https://localhost:8080/",
          "height": 34
        },
        "outputId": "995b344d-b283-4581-c48a-b750b732fc60"
      },
      "source": [
        "def greatest(n1,n2,n3,n4):\n",
        "  if (n1>n2 and n1>n3 and n1>n4):\n",
        "    print(\"n1 is greatest\",n1)\n",
        "  elif (n2>n1 and n2>n3 and n2>n4):\n",
        "    print(\"n2 is greate\",n2)\n",
        "  elif (n3>n1 and n3>n2 and n3>n4):\n",
        "    print(\"n3 is greate\",n3)\n",
        "  else:\n",
        "    print(\"n4 is greatest\",n4)\n",
        "    \n",
        "#code\n",
        "num1=10\n",
        "num2=200\n",
        "num3=0\n",
        "num4=35\n",
        "greatest(num1,num2,num3,num4)"
      ],
      "execution_count": null,
      "outputs": [
        {
          "output_type": "stream",
          "text": [
            "n2 is greate 200\n"
          ],
          "name": "stdout"
        }
      ]
    },
    {
      "cell_type": "markdown",
      "metadata": {
        "id": "8vasRVTdO5sg",
        "colab_type": "text"
      },
      "source": [
        "#Write a  menu program to perform the operations ( ODDorEven, Factorial, ODDNoUptoN, PrimeUptoN )\n",
        "# using functions for two nos with  menu choice\n",
        "#include<bits/stdc++.h>"
      ]
    },
    {
      "cell_type": "code",
      "metadata": {
        "id": "TCIC2zfOO8zP",
        "colab_type": "code",
        "colab": {
          "base_uri": "https://localhost:8080/",
          "height": 595
        },
        "outputId": "c4388c47-1734-4aef-bd47-377a5618bbef"
      },
      "source": [
        "\n",
        "def odd_even(num):\n",
        "  if num%2==0:\n",
        "    print(\"The number is even\")\n",
        "  else:\n",
        "    print(\"The number is odd\")\n",
        "\n",
        "def fact(num):\n",
        "  fact=1\n",
        "  if num==0:\n",
        "    print(\"Factorial of 0 is 1\")\n",
        "  else:\n",
        "    for i in range(1,num+1):\n",
        "      fact=fact*i\n",
        "    print(\"The factorial of\",num,\"is\",fact)\n",
        "\n",
        "def odd(num):\n",
        "  for i in range(0,num+1):\n",
        "    if (i%2)!=0:\n",
        "      print(i)\n",
        "\n",
        "def prime(num):\n",
        "  for num in range(1, num+1):\n",
        "    if num > 1:\n",
        "       for i in range(2, num):\n",
        "           if (num % i) == 0:\n",
        "               break\n",
        "       else:\n",
        "           print(num)\n",
        "\n",
        "loop=1\n",
        "choice=0\n",
        "while loop == 1:\n",
        "  print (\"Welcome to menu\")\n",
        "  print (\"your options are:\")\n",
        "  print (\" \")\n",
        "  print(\"1) Find odd or even number\")\n",
        "  print(\"2) find factorial\")\n",
        "  print(\"3) find all odd number\")\n",
        "  print(\"4) find prime number\")\n",
        "    \n",
        "  print(\" \")\n",
        "  try:\n",
        "    choice = int(input(\"Choose your option: \"))\n",
        "  except:\n",
        "    print('please enter a valid number for option')\n",
        "    print(\" \")\n",
        "    print(\" \")\n",
        "\n",
        "  if choice==1:\n",
        "    number=int(input(\"enter the number:\"))\n",
        "    print(\"Result:\",odd_even(number))\n",
        "  elif choice==2:\n",
        "    number=int(input(\"enter the number:\"))\n",
        "    print(\"Result:\",fact(number))\n",
        "  elif choice==3:\n",
        "    number=int(input(\"enter the number:\"))\n",
        "    print(\"Result:\",odd(number))\n",
        "  elif choice==4:\n",
        "    number=int(input(\"enter the number:\"))\n",
        "    print(\"Result:\",prime(number))\n",
        "  elif choice == 5:\n",
        "    loop = 0\n",
        "     \n",
        "  else:\n",
        "    print(\"please choice a valid option from 1 to 5\")\n",
        "    choice=0"
      ],
      "execution_count": null,
      "outputs": [
        {
          "output_type": "stream",
          "text": [
            "Welcome to menu\n",
            "your options are:\n",
            " \n",
            "1) Find odd or even number\n",
            "2) find factorial\n",
            "3) find all odd number\n",
            "4) find prime number\n",
            " \n",
            "Choose your option: 1\n",
            "enter the number:2\n",
            "The number is even\n",
            "Result: None\n",
            "Welcome to menu\n",
            "your options are:\n",
            " \n",
            "1) Find odd or even number\n",
            "2) find factorial\n",
            "3) find all odd number\n",
            "4) find prime number\n",
            " \n",
            "Choose your option: 3\n",
            "enter the number:4\n",
            "1\n",
            "3\n",
            "Result: None\n",
            "Welcome to menu\n",
            "your options are:\n",
            " \n",
            "1) Find odd or even number\n",
            "2) find factorial\n",
            "3) find all odd number\n",
            "4) find prime number\n",
            " \n",
            "Choose your option: 5\n"
          ],
          "name": "stdout"
        }
      ]
    },
    {
      "cell_type": "markdown",
      "metadata": {
        "id": "U2dJ1WHDPLdW",
        "colab_type": "text"
      },
      "source": [
        ""
      ]
    },
    {
      "cell_type": "code",
      "metadata": {
        "id": "0IZ2hWQQNpB7",
        "colab_type": "code",
        "colab": {}
      },
      "source": [
        ""
      ],
      "execution_count": null,
      "outputs": []
    },
    {
      "cell_type": "markdown",
      "metadata": {
        "id": "KTwZqmDwNSCd",
        "colab_type": "text"
      },
      "source": [
        ""
      ]
    },
    {
      "cell_type": "markdown",
      "metadata": {
        "id": "52qDhceRNeKM",
        "colab_type": "text"
      },
      "source": [
        ""
      ]
    }
  ]
}